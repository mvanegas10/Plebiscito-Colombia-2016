{
 "cells": [
  {
   "cell_type": "markdown",
   "metadata": {},
   "source": [
    "# Regresión lineal\n",
    "En el siguiente archivo se va a desarrollar la regresión lineal para las combinaciones de cada una de las variables que se encuentran en los datos provistos. Los datos se pueden encontrar [acá](https://docs.google.com/spreadsheets/u/1/d/12h1Pk1ZO-BDcGldzKW-IA9VMkU9RlUOPopFoOK6stdU/pubhtml)."
   ]
  },
  {
   "cell_type": "markdown",
   "metadata": {},
   "source": [
    "### Imports"
   ]
  },
  {
   "cell_type": "code",
   "execution_count": 9,
   "metadata": {
    "collapsed": false,
    "scrolled": true
   },
   "outputs": [],
   "source": [
    "#!/usr/bin/env python\n",
    "# -*- coding: utf-8 -*-\n",
    "\n",
    "import sys  \n",
    "\n",
    "import pandas as pd\n",
    "import numpy as np\n",
    "import matplotlib.pyplot as plt\n",
    "%matplotlib inline\n",
    "import seaborn as sns\n",
    "\n",
    "\n",
    "import statsmodels.api as sm\n",
    "from statsmodels.formula.api import ols"
   ]
  },
  {
   "cell_type": "markdown",
   "metadata": {},
   "source": [
    "### Read file"
   ]
  },
  {
   "cell_type": "code",
   "execution_count": 19,
   "metadata": {
    "collapsed": false
   },
   "outputs": [
    {
     "data": {
      "text/html": [
       "<div>\n",
       "<table border=\"1\" class=\"dataframe\">\n",
       "  <thead>\n",
       "    <tr style=\"text-align: right;\">\n",
       "      <th></th>\n",
       "      <th>Municipio</th>\n",
       "      <th>Departamento</th>\n",
       "      <th>Votos para senado 2014</th>\n",
       "      <th>Porcentaje de ��scar Iv��n Zuluaga (1ra vuelta)</th>\n",
       "      <th>Total (1ra vuelta)</th>\n",
       "      <th>Participaci�_n (1ra vuelta)</th>\n",
       "      <th>Ganador (1ra vuelta)</th>\n",
       "      <th>Porcentaje de ��scar Iv��n Zuluaga (2da vuelta)</th>\n",
       "      <th>Total (2da vuelta)</th>\n",
       "      <th>Participaci�_n (2da vuelta)</th>\n",
       "      <th>...</th>\n",
       "      <th>Votos por el S�_</th>\n",
       "      <th>% S�_</th>\n",
       "      <th>Votos v��lidos</th>\n",
       "      <th>Votos totales</th>\n",
       "      <th>Cu��ntos salieron a votar</th>\n",
       "      <th>ind ruralidad 2014</th>\n",
       "      <th>Zonas de concentraci�_n</th>\n",
       "      <th>Cultivos il�_citos</th>\n",
       "      <th>Hect��reas de coca</th>\n",
       "      <th>Hect��reas de amapola</th>\n",
       "    </tr>\n",
       "  </thead>\n",
       "  <tbody>\n",
       "    <tr>\n",
       "      <th>0</th>\n",
       "      <td>Medell�_n</td>\n",
       "      <td>Antioquia</td>\n",
       "      <td>430064</td>\n",
       "      <td>38,48%</td>\n",
       "      <td>700732</td>\n",
       "      <td>49,61%</td>\n",
       "      <td>Zuluaga</td>\n",
       "      <td>63,04%</td>\n",
       "      <td>709359</td>\n",
       "      <td>50,22%</td>\n",
       "      <td>...</td>\n",
       "      <td>253548</td>\n",
       "      <td>37,03%</td>\n",
       "      <td>684721</td>\n",
       "      <td>694784</td>\n",
       "      <td>46,06%</td>\n",
       "      <td>1,24%</td>\n",
       "      <td>No</td>\n",
       "      <td>No</td>\n",
       "      <td>0,00</td>\n",
       "      <td>0,00</td>\n",
       "    </tr>\n",
       "    <tr>\n",
       "      <th>1</th>\n",
       "      <td>Abejorral</td>\n",
       "      <td>Antioquia</td>\n",
       "      <td>4135</td>\n",
       "      <td>62,52%</td>\n",
       "      <td>4827</td>\n",
       "      <td>32,31%</td>\n",
       "      <td>Zuluaga</td>\n",
       "      <td>78,54%</td>\n",
       "      <td>6748</td>\n",
       "      <td>45,17%</td>\n",
       "      <td>...</td>\n",
       "      <td>1296</td>\n",
       "      <td>38,11%</td>\n",
       "      <td>3401</td>\n",
       "      <td>3647</td>\n",
       "      <td>23,88%</td>\n",
       "      <td>65,76%</td>\n",
       "      <td>No</td>\n",
       "      <td>No</td>\n",
       "      <td>0,00</td>\n",
       "      <td>0,00</td>\n",
       "    </tr>\n",
       "    <tr>\n",
       "      <th>2</th>\n",
       "      <td>Abriaqu�_</td>\n",
       "      <td>Antioquia</td>\n",
       "      <td>726</td>\n",
       "      <td>40,76%</td>\n",
       "      <td>709</td>\n",
       "      <td>37,26%</td>\n",
       "      <td>Zuluaga</td>\n",
       "      <td>60,33%</td>\n",
       "      <td>852</td>\n",
       "      <td>44,77%</td>\n",
       "      <td>...</td>\n",
       "      <td>213</td>\n",
       "      <td>39,08%</td>\n",
       "      <td>545</td>\n",
       "      <td>572</td>\n",
       "      <td>29,51%</td>\n",
       "      <td>64,87%</td>\n",
       "      <td>No</td>\n",
       "      <td>No</td>\n",
       "      <td>0,00</td>\n",
       "      <td>0,00</td>\n",
       "    </tr>\n",
       "    <tr>\n",
       "      <th>3</th>\n",
       "      <td>Alejandria</td>\n",
       "      <td>Antioquia</td>\n",
       "      <td>1675</td>\n",
       "      <td>29,19%</td>\n",
       "      <td>1720</td>\n",
       "      <td>39,30%</td>\n",
       "      <td>Santos</td>\n",
       "      <td>44,34%</td>\n",
       "      <td>2163</td>\n",
       "      <td>49,42%</td>\n",
       "      <td>...</td>\n",
       "      <td>966</td>\n",
       "      <td>58,12%</td>\n",
       "      <td>1662</td>\n",
       "      <td>1735</td>\n",
       "      <td>37,91%</td>\n",
       "      <td>48,09%</td>\n",
       "      <td>No</td>\n",
       "      <td>No</td>\n",
       "      <td>0,00</td>\n",
       "      <td>0,00</td>\n",
       "    </tr>\n",
       "    <tr>\n",
       "      <th>4</th>\n",
       "      <td>Amag��</td>\n",
       "      <td>Antioquia</td>\n",
       "      <td>5742</td>\n",
       "      <td>33,36%</td>\n",
       "      <td>7407</td>\n",
       "      <td>35,45%</td>\n",
       "      <td>Zuluaga</td>\n",
       "      <td>53,28%</td>\n",
       "      <td>8814</td>\n",
       "      <td>42,19%</td>\n",
       "      <td>...</td>\n",
       "      <td>2084</td>\n",
       "      <td>33,49%</td>\n",
       "      <td>6223</td>\n",
       "      <td>6370</td>\n",
       "      <td>28,92%</td>\n",
       "      <td>43,62%</td>\n",
       "      <td>No</td>\n",
       "      <td>No</td>\n",
       "      <td>0,00</td>\n",
       "      <td>0,00</td>\n",
       "    </tr>\n",
       "  </tbody>\n",
       "</table>\n",
       "<p>5 rows × 34 columns</p>\n",
       "</div>"
      ],
      "text/plain": [
       "    Municipio Departamento  Votos para senado 2014  \\\n",
       "0   Medell�_n    Antioquia                  430064   \n",
       "1   Abejorral    Antioquia                    4135   \n",
       "2   Abriaqu�_    Antioquia                     726   \n",
       "3  Alejandria    Antioquia                    1675   \n",
       "4      Amag��    Antioquia                    5742   \n",
       "\n",
       "  Porcentaje de ��scar Iv��n Zuluaga (1ra vuelta)  Total (1ra vuelta)  \\\n",
       "0                                          38,48%              700732   \n",
       "1                                          62,52%                4827   \n",
       "2                                          40,76%                 709   \n",
       "3                                          29,19%                1720   \n",
       "4                                          33,36%                7407   \n",
       "\n",
       "  Participaci�_n (1ra vuelta) Ganador (1ra vuelta)  \\\n",
       "0                      49,61%              Zuluaga   \n",
       "1                      32,31%              Zuluaga   \n",
       "2                      37,26%              Zuluaga   \n",
       "3                      39,30%               Santos   \n",
       "4                      35,45%              Zuluaga   \n",
       "\n",
       "  Porcentaje de ��scar Iv��n Zuluaga (2da vuelta)  Total (2da vuelta)  \\\n",
       "0                                          63,04%              709359   \n",
       "1                                          78,54%                6748   \n",
       "2                                          60,33%                 852   \n",
       "3                                          44,34%                2163   \n",
       "4                                          53,28%                8814   \n",
       "\n",
       "  Participaci�_n (2da vuelta)          ...          Votos por el S�_   % S�_  \\\n",
       "0                      50,22%          ...                    253548  37,03%   \n",
       "1                      45,17%          ...                      1296  38,11%   \n",
       "2                      44,77%          ...                       213  39,08%   \n",
       "3                      49,42%          ...                       966  58,12%   \n",
       "4                      42,19%          ...                      2084  33,49%   \n",
       "\n",
       "  Votos v��lidos Votos totales Cu��ntos salieron a votar ind ruralidad 2014  \\\n",
       "0         684721        694784                    46,06%              1,24%   \n",
       "1           3401          3647                    23,88%             65,76%   \n",
       "2            545           572                    29,51%             64,87%   \n",
       "3           1662          1735                    37,91%             48,09%   \n",
       "4           6223          6370                    28,92%             43,62%   \n",
       "\n",
       "  Zonas de concentraci�_n Cultivos il�_citos Hect��reas de coca  \\\n",
       "0                      No                 No               0,00   \n",
       "1                      No                 No               0,00   \n",
       "2                      No                 No               0,00   \n",
       "3                      No                 No               0,00   \n",
       "4                      No                 No               0,00   \n",
       "\n",
       "  Hect��reas de amapola  \n",
       "0                  0,00  \n",
       "1                  0,00  \n",
       "2                  0,00  \n",
       "3                  0,00  \n",
       "4                  0,00  \n",
       "\n",
       "[5 rows x 34 columns]"
      ]
     },
     "execution_count": 19,
     "metadata": {},
     "output_type": "execute_result"
    }
   ],
   "source": [
    "municipios = pd.read_csv(\"/Users/Meili/Dropbox/Uniandes/Noveno/Visual/BonoParcial/Plebiscito-Colombia-2016/Plebiscito.csv\")\n",
    "municipios.head()"
   ]
  },
  {
   "cell_type": "markdown",
   "metadata": {},
   "source": [
    "### Scaterplot"
   ]
  },
  {
   "cell_type": "code",
   "execution_count": 22,
   "metadata": {
    "collapsed": false
   },
   "outputs": [
    {
     "data": {
      "text/plain": [
       "<matplotlib.axes._subplots.AxesSubplot at 0x10c201e90>"
      ]
     },
     "execution_count": 22,
     "metadata": {},
     "output_type": "execute_result"
    },
    {
     "data": {
      "image/png": "[encoded data removed]",
      "text/plain": [
       "<matplotlib.figure.Figure at 0x10b2e9890>"
      ]
     },
     "metadata": {},
     "output_type": "display_data"
    }
   ],
   "source": [
    "fig, axs = plt.subplots(1, 3, sharey=True)\n",
    "municipios.plot(kind='scatter', x='Votos para senado 2014', y='Votos por el No', ax=axs[0], figsize=(16, 8))\n",
    "municipios.plot(kind='scatter', x='Total (1ra vuelta)', y='Votos por el No', ax=axs[1])\n",
    "municipios.plot(kind='scatter', x='Total (2da vuelta)', y='Votos por el No', ax=axs[2])\n"
   ]
  },
  {
   "cell_type": "markdown",
   "metadata": {},
   "source": [
    "### Regresion"
   ]
  },
  {
   "cell_type": "code",
   "execution_count": 31,
   "metadata": {
    "collapsed": false
   },
   "outputs": [
    {
     "ename": "PatsyError",
     "evalue": "Number of rows mismatch between data argument and 'Total (1ra vuelta)' (1122 versus 1)\n    'Total (1ra vuelta)' ~ 'Votos para senado 2014'\n    ^^^^^^^^^^^^^^^^^^^^",
     "output_type": "error",
     "traceback": [
      "\u001b[0;31m---------------------------------------------------------------------------\u001b[0m",
      "\u001b[0;31mPatsyError\u001b[0m                                Traceback (most recent call last)",
      "\u001b[0;32m<ipython-input-31-aa0185550a48>\u001b[0m in \u001b[0;36m<module>\u001b[0;34m()\u001b[0m\n\u001b[0;32m----> 1\u001b[0;31m \u001b[0mlm\u001b[0m \u001b[0;34m=\u001b[0m \u001b[0mols\u001b[0m\u001b[0;34m(\u001b[0m\u001b[0mformula\u001b[0m\u001b[0;34m=\u001b[0m\u001b[0;34m\"'Total (1ra vuelta)' ~ 'Votos para senado 2014'\"\u001b[0m\u001b[0;34m,\u001b[0m \u001b[0mdata\u001b[0m\u001b[0;34m=\u001b[0m\u001b[0mmunicipios\u001b[0m\u001b[0;34m)\u001b[0m\u001b[0;34m\u001b[0m\u001b[0m\n\u001b[0m",
      "\u001b[0;32m/Library/Python/2.7/site-packages/statsmodels/base/model.pyc\u001b[0m in \u001b[0;36mfrom_formula\u001b[0;34m(cls, formula, data, subset, *args, **kwargs)\u001b[0m\n\u001b[1;32m    145\u001b[0m         (endog, exog), missing_idx = handle_formula_data(data, None, formula,\n\u001b[1;32m    146\u001b[0m                                                          \u001b[0mdepth\u001b[0m\u001b[0;34m=\u001b[0m\u001b[0meval_env\u001b[0m\u001b[0;34m,\u001b[0m\u001b[0;34m\u001b[0m\u001b[0m\n\u001b[0;32m--> 147\u001b[0;31m                                                          missing=missing)\n\u001b[0m\u001b[1;32m    148\u001b[0m         kwargs.update({'missing_idx': missing_idx,\n\u001b[1;32m    149\u001b[0m                        'missing': missing})\n",
      "\u001b[0;32m/Library/Python/2.7/site-packages/statsmodels/formula/formulatools.pyc\u001b[0m in \u001b[0;36mhandle_formula_data\u001b[0;34m(Y, X, formula, depth, missing)\u001b[0m\n\u001b[1;32m     63\u001b[0m         \u001b[0;32mif\u001b[0m \u001b[0mdata_util\u001b[0m\u001b[0;34m.\u001b[0m\u001b[0m_is_using_pandas\u001b[0m\u001b[0;34m(\u001b[0m\u001b[0mY\u001b[0m\u001b[0;34m,\u001b[0m \u001b[0mNone\u001b[0m\u001b[0;34m)\u001b[0m\u001b[0;34m:\u001b[0m\u001b[0;34m\u001b[0m\u001b[0m\n\u001b[1;32m     64\u001b[0m             result = dmatrices(formula, Y, depth, return_type='dataframe',\n\u001b[0;32m---> 65\u001b[0;31m                                NA_action=na_action)\n\u001b[0m\u001b[1;32m     66\u001b[0m         \u001b[0;32melse\u001b[0m\u001b[0;34m:\u001b[0m\u001b[0;34m\u001b[0m\u001b[0m\n\u001b[1;32m     67\u001b[0m             result = dmatrices(formula, Y, depth, return_type='dataframe',\n",
      "\u001b[0;32m/Library/Python/2.7/site-packages/patsy/highlevel.pyc\u001b[0m in \u001b[0;36mdmatrices\u001b[0;34m(formula_like, data, eval_env, NA_action, return_type)\u001b[0m\n\u001b[1;32m    308\u001b[0m     \u001b[0meval_env\u001b[0m \u001b[0;34m=\u001b[0m \u001b[0mEvalEnvironment\u001b[0m\u001b[0;34m.\u001b[0m\u001b[0mcapture\u001b[0m\u001b[0;34m(\u001b[0m\u001b[0meval_env\u001b[0m\u001b[0;34m,\u001b[0m \u001b[0mreference\u001b[0m\u001b[0;34m=\u001b[0m\u001b[0;36m1\u001b[0m\u001b[0;34m)\u001b[0m\u001b[0;34m\u001b[0m\u001b[0m\n\u001b[1;32m    309\u001b[0m     (lhs, rhs) = _do_highlevel_design(formula_like, data, eval_env,\n\u001b[0;32m--> 310\u001b[0;31m                                       NA_action, return_type)\n\u001b[0m\u001b[1;32m    311\u001b[0m     \u001b[0;32mif\u001b[0m \u001b[0mlhs\u001b[0m\u001b[0;34m.\u001b[0m\u001b[0mshape\u001b[0m\u001b[0;34m[\u001b[0m\u001b[0;36m1\u001b[0m\u001b[0;34m]\u001b[0m \u001b[0;34m==\u001b[0m \u001b[0;36m0\u001b[0m\u001b[0;34m:\u001b[0m\u001b[0;34m\u001b[0m\u001b[0m\n\u001b[1;32m    312\u001b[0m         \u001b[0;32mraise\u001b[0m \u001b[0mPatsyError\u001b[0m\u001b[0;34m(\u001b[0m\u001b[0;34m\"model is missing required outcome variables\"\u001b[0m\u001b[0;34m)\u001b[0m\u001b[0;34m\u001b[0m\u001b[0m\n",
      "\u001b[0;32m/Library/Python/2.7/site-packages/patsy/highlevel.pyc\u001b[0m in \u001b[0;36m_do_highlevel_design\u001b[0;34m(formula_like, data, eval_env, NA_action, return_type)\u001b[0m\n\u001b[1;32m    167\u001b[0m         return build_design_matrices(design_infos, data,\n\u001b[1;32m    168\u001b[0m                                      \u001b[0mNA_action\u001b[0m\u001b[0;34m=\u001b[0m\u001b[0mNA_action\u001b[0m\u001b[0;34m,\u001b[0m\u001b[0;34m\u001b[0m\u001b[0m\n\u001b[0;32m--> 169\u001b[0;31m                                      return_type=return_type)\n\u001b[0m\u001b[1;32m    170\u001b[0m     \u001b[0;32melse\u001b[0m\u001b[0;34m:\u001b[0m\u001b[0;34m\u001b[0m\u001b[0m\n\u001b[1;32m    171\u001b[0m         \u001b[0;31m# No builders, but maybe we can still get matrices\u001b[0m\u001b[0;34m\u001b[0m\u001b[0;34m\u001b[0m\u001b[0m\n",
      "\u001b[0;32m/Library/Python/2.7/site-packages/patsy/build.pyc\u001b[0m in \u001b[0;36mbuild_design_matrices\u001b[0;34m(design_infos, data, NA_action, return_type, dtype)\u001b[0m\n\u001b[1;32m    891\u001b[0m                 \u001b[0mname\u001b[0m \u001b[0;34m=\u001b[0m \u001b[0mfactor_info\u001b[0m\u001b[0;34m.\u001b[0m\u001b[0mfactor\u001b[0m\u001b[0;34m.\u001b[0m\u001b[0mname\u001b[0m\u001b[0;34m(\u001b[0m\u001b[0;34m)\u001b[0m\u001b[0;34m\u001b[0m\u001b[0m\n\u001b[1;32m    892\u001b[0m                 \u001b[0morigin\u001b[0m \u001b[0;34m=\u001b[0m \u001b[0mfactor_info\u001b[0m\u001b[0;34m.\u001b[0m\u001b[0mfactor\u001b[0m\u001b[0;34m.\u001b[0m\u001b[0morigin\u001b[0m\u001b[0;34m\u001b[0m\u001b[0m\n\u001b[0;32m--> 893\u001b[0;31m                 \u001b[0mrows_checker\u001b[0m\u001b[0;34m.\u001b[0m\u001b[0mcheck\u001b[0m\u001b[0;34m(\u001b[0m\u001b[0mvalue\u001b[0m\u001b[0;34m.\u001b[0m\u001b[0mshape\u001b[0m\u001b[0;34m[\u001b[0m\u001b[0;36m0\u001b[0m\u001b[0;34m]\u001b[0m\u001b[0;34m,\u001b[0m \u001b[0mname\u001b[0m\u001b[0;34m,\u001b[0m \u001b[0morigin\u001b[0m\u001b[0;34m)\u001b[0m\u001b[0;34m\u001b[0m\u001b[0m\n\u001b[0m\u001b[1;32m    894\u001b[0m                 if (have_pandas\n\u001b[1;32m    895\u001b[0m                     and isinstance(value, (pandas.Series, pandas.DataFrame))):\n",
      "\u001b[0;32m/Library/Python/2.7/site-packages/patsy/build.pyc\u001b[0m in \u001b[0;36mcheck\u001b[0;34m(self, seen_value, desc, origin)\u001b[0m\n\u001b[1;32m    793\u001b[0m                 \u001b[0;31m# XX FIXME: this is a case where having discontiguous Origins\u001b[0m\u001b[0;34m\u001b[0m\u001b[0;34m\u001b[0m\u001b[0m\n\u001b[1;32m    794\u001b[0m                 \u001b[0;31m# would be useful...\u001b[0m\u001b[0;34m\u001b[0m\u001b[0;34m\u001b[0m\u001b[0m\n\u001b[0;32m--> 795\u001b[0;31m                 \u001b[0;32mraise\u001b[0m \u001b[0mPatsyError\u001b[0m\u001b[0;34m(\u001b[0m\u001b[0mmsg\u001b[0m\u001b[0;34m,\u001b[0m \u001b[0morigin\u001b[0m\u001b[0;34m)\u001b[0m\u001b[0;34m\u001b[0m\u001b[0m\n\u001b[0m\u001b[1;32m    796\u001b[0m \u001b[0;34m\u001b[0m\u001b[0m\n\u001b[1;32m    797\u001b[0m def build_design_matrices(design_infos, data,\n",
      "\u001b[0;31mPatsyError\u001b[0m: Number of rows mismatch between data argument and 'Total (1ra vuelta)' (1122 versus 1)\n    'Total (1ra vuelta)' ~ 'Votos para senado 2014'\n    ^^^^^^^^^^^^^^^^^^^^"
     ]
    }
   ],
   "source": [
    "lm = ols(formula=\"'Total (1ra vuelta)' ~ 'Votos para senado 2014'\", data=municipios)"
   ]
  },
  {
   "cell_type": "code",
   "execution_count": null,
   "metadata": {
    "collapsed": true
   },
   "outputs": [],
   "source": []
  }
 ],
 "metadata": {
  "kernelspec": {
   "display_name": "Python 2",
   "language": "python",
   "name": "python2"
  },
  "language_info": {
   "codemirror_mode": {
    "name": "ipython",
    "version": 2
   },
   "file_extension": ".py",
   "mimetype": "text/x-python",
   "name": "python",
   "nbconvert_exporter": "python",
   "pygments_lexer": "ipython2",
   "version": "2.7.10"
  }
 },
 "nbformat": 4,
 "nbformat_minor": 0
}

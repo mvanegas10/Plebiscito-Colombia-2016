{
 "cells": [
  {
   "cell_type": "markdown",
   "metadata": {},
   "source": [
    "# Regresión lineal\n",
    "En el siguiente archivo se va a desarrollar la regresión lineal para las combinaciones de cada una de las variables que se encuentran en los datos provistos, agrupada por departamentos. Los datos se pueden encontrar [acá](https://docs.google.com/spreadsheets/u/1/d/12h1Pk1ZO-BDcGldzKW-IA9VMkU9RlUOPopFoOK6stdU/pubhtml)."
   ]
  },
  {
   "cell_type": "markdown",
   "metadata": {},
   "source": [
    "### Imports"
   ]
  },
  {
   "cell_type": "code",
   "execution_count": 22,
   "metadata": {
    "collapsed": true
   },
   "outputs": [],
   "source": [
    "#!/usr/bin/env python\n",
    "# -*- coding: utf-8 -*-\n",
    "\n",
    "import sys  \n",
    "reload(sys)  \n",
    "sys.setdefaultencoding('utf8')\n",
    "\n",
    "import pandas as pd\n",
    "import numpy as np\n",
    "import matplotlib.pyplot as plt\n",
    "%matplotlib inline\n",
    "import seaborn as sns\n",
    "\n",
    "import statsmodels.formula.api as smf"
   ]
  },
  {
   "cell_type": "markdown",
   "metadata": {},
   "source": [
    "### Read file"
   ]
  },
  {
   "cell_type": "code",
   "execution_count": 23,
   "metadata": {
    "collapsed": false
   },
   "outputs": [],
   "source": [
    "municipios = pd.read_csv(\"/Users/Meili/Dropbox/Uniandes/Noveno/Visual/BonoParcial/Plebiscito-Colombia-2016/docs/Plebiscito.csv\")\n",
    "municipios.head()\n",
    "\n",
    "# Create variables\n",
    "variables=np.array(municipios.keys())\n",
    "delete=np.array(['Municipio','Departamento','GanadorPrimeraVuelta','Ganador','AfectadoPorElConflictoPares','ZonasDeConcentracion','CultivosIlicitos','VotosPorElNo','PorcentajeNo','VotosPorElSi','PorcentajeSi','VotosValidos','VotosTotales','CuantosSalieronAVotar','Abstencion'])\n",
    "variables=np.setdiff1d(variables,delete)\n",
    "\n",
    "comparacion=np.array(['PorcentajeNo','PorcentajeSi','Abstencion'])\n",
    "\n",
    "departamentos=municipios.Departamento.drop_duplicates()\n",
    "\n",
    "# To numeric \n",
    "\n",
    "for i in range(7, len(variables)): \n",
    "    pd.to_numeric(municipios[variables[i]])\n",
    "\n",
    "for i in range(len(comparacion)):\n",
    "    pd.to_numeric(municipios[comparacion[i]])\n",
    "    "
   ]
  },
  {
   "cell_type": "markdown",
   "metadata": {},
   "source": [
    "### Regression and Correlation"
   ]
  },
  {
   "cell_type": "code",
   "execution_count": 32,
   "metadata": {
    "collapsed": false
   },
   "outputs": [],
   "source": [
    "results = {}\n",
    "for departamento in departamentos:\n",
    "    correlaciones = municipios[(municipios.Departamento == departamento)].corr()\n",
    "    for j in range(len(variables)): \n",
    "        for k in range(len(comparacion)):            \n",
    "            variable = str(variables[j])\n",
    "            comparador = str(comparacion[k])\n",
    "            if (departamento is not None) and (variable is not None) and (comparador is not None) :\n",
    "                # create a fitted model in one line\n",
    "                lm = smf.ols(formula=comparador + \" ~ \" + variable, data=municipios[(municipios.Departamento == departamento)]).fit()\n",
    "                results[departamento + \" - \" + comparador + \" - \" + variable] = [lm.params[1], lm.params[0],correlaciones[comparador][variable]]"
   ]
  },
  {
   "cell_type": "markdown",
   "metadata": {},
   "source": [
    "### Write results"
   ]
  },
  {
   "cell_type": "code",
   "execution_count": 33,
   "metadata": {
    "collapsed": true
   },
   "outputs": [],
   "source": [
    "import csv\n",
    "with open('/Users/Meili/Dropbox/Uniandes/Noveno/Visual/BonoParcial/Plebiscito-Colombia-2016/docs/departamentos_results.csv', 'wb') as csvfile:\n",
    "    spamwriter = csv.writer(csvfile, delimiter=',',quotechar=' ', quoting=csv.QUOTE_MINIMAL)\n",
    "    spamwriter.writerow(['Departamento', 'Variable1', 'Variable2', 'pendiente', 'intercepto', 'pearson'])\n",
    "    for item in results:\n",
    "        line = []\n",
    "        line.append((item.split(' - ')[0]).strip())\n",
    "        line.append((item.split(' - ')[1]).strip())\n",
    "        line.append((item.split(' - ')[2]).strip())        \n",
    "        line.extend(results[item])\n",
    "        spamwriter.writerow([','.join(map(str, line))])"
   ]
  },
  {
   "cell_type": "code",
   "execution_count": null,
   "metadata": {
    "collapsed": true
   },
   "outputs": [],
   "source": []
  }
 ],
 "metadata": {
  "kernelspec": {
   "display_name": "Python 2",
   "language": "python",
   "name": "python2"
  },
  "language_info": {
   "codemirror_mode": {
    "name": "ipython",
    "version": 2
   },
   "file_extension": ".py",
   "mimetype": "text/x-python",
   "name": "python",
   "nbconvert_exporter": "python",
   "pygments_lexer": "ipython2",
   "version": "2.7.10"
  }
 },
 "nbformat": 4,
 "nbformat_minor": 1
}

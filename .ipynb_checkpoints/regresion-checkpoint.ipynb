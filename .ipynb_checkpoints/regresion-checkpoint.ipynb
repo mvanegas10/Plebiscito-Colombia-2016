{
 "cells": [
  {
   "cell_type": "code",
   "execution_count": 9,
   "metadata": {
    "collapsed": false,
    "scrolled": true
   },
   "outputs": [],
   "source": [
    "#!/usr/bin/env python\n",
    "# -*- coding: utf-8 -*-\n",
    "\n",
    "import sys  \n",
    "\n",
    "import pandas as pd\n",
    "import numpy as np\n",
    "import matplotlib.pyplot as plt\n",
    "%matplotlib inline\n",
    "import seaborn as sns\n",
    "\n",
    "\n",
    "import statsmodels.api as sm\n",
    "from statsmodels.formula.api import ols"
   ]
  },
  {
   "cell_type": "code",
   "execution_count": 12,
   "metadata": {
    "collapsed": false,
    "scrolled": true
   },
   "outputs": [
    {
     "name": "stdout",
     "output_type": "stream",
     "text": [
      "0                    Medellín\n",
      "1                   Abejorral\n",
      "2                    Abriaquí\n",
      "3                  Alejandria\n",
      "4                       Amagá\n",
      "5                      Amalfi\n",
      "6                       Andes\n",
      "7                 Angelópolis\n",
      "8                   Angostura\n",
      "9                       Anorí\n",
      "10      Santa Fé de Antioquia\n",
      "11                       Anzá\n",
      "12                   Apartadó\n",
      "13                  Arboletes\n",
      "14                    Argelia\n",
      "15                    Armenia\n",
      "16                    Barbosa\n",
      "17                    Belmira\n",
      "18                      Bello\n",
      "19                    Betania\n",
      "20                    Betulia\n",
      "21             Ciudad Bolívar\n",
      "22                    Briceño\n",
      "23                   Burítica\n",
      "24                    Cáceres\n",
      "25                    Caicedo\n",
      "26                     Caldas\n",
      "27                 Campamento\n",
      "28                Cañasgordas\n",
      "29                   Caracolí\n",
      "                ...          \n",
      "1092              La Victoria\n",
      "1093          Mirití - Paraná\n",
      "1094           Puerto Alegría\n",
      "1095             Puerto Arica\n",
      "1096            Puerto Nariño\n",
      "1097         Puerto Santander\n",
      "1098                 Tarapacá\n",
      "1099                  Inírida\n",
      "1100           Barranco Minas\n",
      "1101               Mapiripana\n",
      "1102               San Felipe\n",
      "1103          Puerto Colombia\n",
      "1104             La Guadalupe\n",
      "1105                 Cacahual\n",
      "1106                Pana Pana\n",
      "1107                 Morichal\n",
      "1108    San José del Guaviare\n",
      "1109                  Calamar\n",
      "1110               El Retorno\n",
      "1111               Miraflores\n",
      "1112                     Mitú\n",
      "1113                   Carurú\n",
      "1114                    Pacoa\n",
      "1115                  Taraira\n",
      "1116                 Papunaua\n",
      "1117                 Yavaraté\n",
      "1118           Puerto Carreño\n",
      "1119             La Primavera\n",
      "1120            Santa Rosalía\n",
      "1121                 Cumaribo\n",
      "Name: Municipio, dtype: object\n"
     ]
    }
   ],
   "source": [
    "municipios = pd.read_csv(\"/Users/Meili/Dropbox/Uniandes/Noveno/Visual/BonoParcial/Plebiscito-Colombia-2016/Plebiscito.csv\")\n",
    "print(municipios['Municipio'])"
   ]
  },
  {
   "cell_type": "code",
   "execution_count": null,
   "metadata": {
    "collapsed": true
   },
   "outputs": [],
   "source": []
  }
 ],
 "metadata": {
  "kernelspec": {
   "display_name": "Python 2",
   "language": "python",
   "name": "python2"
  },
  "language_info": {
   "codemirror_mode": {
    "name": "ipython",
    "version": 2
   },
   "file_extension": ".py",
   "mimetype": "text/x-python",
   "name": "python",
   "nbconvert_exporter": "python",
   "pygments_lexer": "ipython2",
   "version": "2.7.10"
  }
 },
 "nbformat": 4,
 "nbformat_minor": 0
}
